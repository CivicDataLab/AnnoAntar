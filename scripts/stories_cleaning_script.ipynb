{
 "cells": [
  {
   "cell_type": "code",
   "execution_count": 1,
   "metadata": {},
   "outputs": [],
   "source": [
    "import pandas as pd"
   ]
  },
  {
   "cell_type": "code",
   "execution_count": 2,
   "metadata": {},
   "outputs": [
    {
     "name": "stderr",
     "output_type": "stream",
     "text": [
      "/home/ubuntu/.local/lib/python3.6/site-packages/IPython/core/interactiveshell.py:3049: DtypeWarning: Columns (34,36,37,38,39,40,41,42,43,44,45,46,47,48,49,50,51,52,53,54,55,56,57,58,59,60,61,62,63,64,65,66,67,68,69,70,71,72,73,74,75,76,77,78,79,80,81,82,83,84,85,86,87,88,89,90,91,92,93,94,95,96,97,98,99,100,101,102,103,104,105,106,107,108,109,110,111,112,113,114,115,116,117,118,119,120,121,122,123,124,125,126,127,128,129,130,131,132,133,134,135,136,137,138,139,140,141,142,143,144,145,146,147,148,149,150,151,152,153,154,155,156,157,158,159,160,161,162,163,164,165,166,167,168,169,170,171,172,173,174,175,176,177,178,179,180,181,182,183,184,185,186,187,188,189,190,191,192,193,194,195,196,197,198,199,200,201,202,203,204,205,206,207,208,209,210,211,212,213,214,215,216,217,218,219,220,221,222,223,224,225,226,227,228,229,230,231,232,233,234,235,236,237,238,239,240,241,242,243,244,245,246,247,248,249,250,251,252,253,254,255,256,257,258,259,260,261,262,263,264,265,266,267,268,269,270,271,272,273,274,275,276,277,278,279,280,281,282,283,284,285,286,287,288,289,290,291,292,293,294,295,296,297,298,299,300,301,302,303,304,305,306,307,308,309,310,311,312,313,314,315,316,317,318,319,320,321,322,323,324,325,326,327,328,329,330,331,332,333,334,335,336,337,338,339,340,341,342,343,344,345,346,347,348,349,350,351,352,353,354,355,356,357,358,359,360,361,362,363,364,365,366,367,368,369,370,371,372,373,374,375,376,377,378,379,380,381,382,383,384,385,386,387,388,389,390,391,392,393,394,395,396,397,398,399,400,401,402,403,404,405,406,407,408,409,410,411,412,413,414,415,416,417,418,419,420,421,422,423,424,425,426,427,428,429,430,431,432,433,434,435,436,437,438,439,440,441,442,443,444,445,446,447,448,449,450,451,452,453,454,455,456,457,458,459,460,461,462,463,464,465,466,467,468,469,470,471,472,473,474,475,476,477,478,479,480,481,482,483,484,485,486,487,488,489,490,491,492,493,494,495,496,497,498,499,500,501,502,503,504,505,506,507,508,509,510,511,512,513,514,515,516,517,518,519,520,521,522,523,524,525,526,527,528,529,530,531,532,533,534,535,536,537,538,539,540,541,542,543,544,545,546,547,548,549,550,551,552,553,554,555,556,557,558,559,560,561,562,563,564,565,566,567,568,569,570,571,572,573,574,575,576,577,578,579,580,581,582,583,584,585,586,587,588,589,590,591,592,593,594,595,596,597,598,599,600,601,602,603,604,605,606,607,608,609,610,611,612,613,614,615,616,617,618,619,620,621,622,623,624,625,626,627,628,629,630,631,632,633,634,635,636,637,638,639,640,641,642,643,644,645,646,647,648,649,650,651,652,653,654,655,656,657,658,659,660,661,662,663,664,665,666,667,668,669,670,671,672,673,674,675,676,677,678,679,680,681,682,683,684,685,686,687,688,689,690,691,692,693,694,695,696,697,698,699,700,701,702,703,704,705,706,707,708,709,710,711,712,713,714,715,716,717,718,719,720,721,722,723,724,725,726,727,728,729,730,731,732,733,734,735,736,737,738,739,740,741,742,743,744,745,746,747,748,749,750,751,752,753,754,755,756,757,758,759,760,761,762,763,764,765,766,767,768,769,770,771,772,773,774,775,776,777,778,779,780,781,782,783,784,785,786,787,788,789,790,791,792,793,794,795,796,797,798,799,800,801,802,803,804,805,806,807,808,809,810,811,812,813,814,815,816,817,818,819,820,821,822,823,824,825,826,827,828,829,830,831,832,833,834,835,836,837,838,839,840,841,842,843,844,845,846,847,848,849,850,851,852,853,854,855,856,857,858,859,860,861,862,863,864,865,866,867,868,869,870,871,872,873,874,875,876,877,878,879,880,881,882,883,884,885,886,887,888,889,890,891,892,893,894,895,896,897,898,899,900,901,902,903,904,905,906,907,908,909,910,911,912,913,914,915,916,917,918,919,920,921,922,923,924,925,926,927,928,929,930,931,932,933,934,935,936,937,938,939,940,941,942,943,944,945,946,947,948,949,950,951,952,953,954,955,956,957,958,959,960,961,962,963,964,965,966,967,968,969,970,971,972,973,974,975,976,977,978,979,980,981,982,983,984,985,986,987,988,989,990,991,992,993,994,995,996,997,998,999,1000,1001,1002,1003,1004,1005,1006,1007,1008,1009,1010,1011,1012,1013,1014,1015,1016,1017,1018,1019,1020,1021,1022,1023) have mixed types. Specify dtype option on import or set low_memory=False.\n",
      "  interactivity=interactivity, compiler=compiler, result=result)\n"
     ]
    }
   ],
   "source": [
    "stories = pd.read_csv('../data/stories.csv')"
   ]
  },
  {
   "cell_type": "code",
   "execution_count": 3,
   "metadata": {},
   "outputs": [],
   "source": [
    "stories = stories.drop(stories.filter(regex='Unnamed').columns, axis=1)"
   ]
  },
  {
   "cell_type": "code",
   "execution_count": 4,
   "metadata": {},
   "outputs": [],
   "source": [
    "stories = stories.drop(columns=['license_type','hi_res_downloads', 'epub_downloads', 'donor_updated', 'attribution_text', 'credit_line', 'publisher',  'description', 'illustrator_name_updated', 'author_name_updated', 'translator_name_updated', 'status', 'reads', 'downloads_updated', 'published_date_updated', 'ancestry_updated', 'derivation_type_updated','reading_level_updated','category_name','tag_name'])"
   ]
  },
  {
   "cell_type": "code",
   "execution_count": 5,
   "metadata": {},
   "outputs": [],
   "source": [
    "stories = stories[(stories['story_langugage']==\"English\") | (stories['story_langugage']==\"Hindi\")] "
   ]
  },
  {
   "cell_type": "code",
   "execution_count": 6,
   "metadata": {},
   "outputs": [
    {
     "data": {
      "text/html": [
       "<div>\n",
       "<style scoped>\n",
       "    .dataframe tbody tr th:only-of-type {\n",
       "        vertical-align: middle;\n",
       "    }\n",
       "\n",
       "    .dataframe tbody tr th {\n",
       "        vertical-align: top;\n",
       "    }\n",
       "\n",
       "    .dataframe thead th {\n",
       "        text-align: right;\n",
       "    }\n",
       "</style>\n",
       "<table border=\"1\" class=\"dataframe\">\n",
       "  <thead>\n",
       "    <tr style=\"text-align: right;\">\n",
       "      <th></th>\n",
       "      <th>story_id</th>\n",
       "      <th>title</th>\n",
       "      <th>english_title</th>\n",
       "      <th>story_langugage</th>\n",
       "      <th>synopsis</th>\n",
       "      <th>content</th>\n",
       "      <th>story_original_title</th>\n",
       "    </tr>\n",
       "  </thead>\n",
       "  <tbody>\n",
       "    <tr>\n",
       "      <th>0</th>\n",
       "      <td>1</td>\n",
       "      <td>वह हँस दिया</td>\n",
       "      <td>Veh Hans Diyaa</td>\n",
       "      <td>Hindi</td>\n",
       "      <td>क्‍या आपको दौड़ लगाने में मज़ा आता है? हमारी कहा...</td>\n",
       "      <td>Kitchenvadoekdiscl ClothesT-hemp&amp;nbsp;&amp;nbsp;&amp;n...</td>\n",
       "      <td>वह हँस दिया</td>\n",
       "    </tr>\n",
       "    <tr>\n",
       "      <th>1</th>\n",
       "      <td>2</td>\n",
       "      <td>Smile Please!</td>\n",
       "      <td>Smile Please!</td>\n",
       "      <td>English</td>\n",
       "      <td>Follow the young deer as he races along with f...</td>\n",
       "      <td>A fawn was racing in the forest. He was ahead ...</td>\n",
       "      <td>वह हँस दिया</td>\n",
       "    </tr>\n",
       "    <tr>\n",
       "      <th>6</th>\n",
       "      <td>7</td>\n",
       "      <td>Fat King Thin Dog</td>\n",
       "      <td>Fat King Thin Dog</td>\n",
       "      <td>English</td>\n",
       "      <td>Run along with the Fat King after the Thin Dog!</td>\n",
       "      <td>This is a fat king. The fat king has a thin do...</td>\n",
       "      <td>Fat King Thin Dog</td>\n",
       "    </tr>\n",
       "    <tr>\n",
       "      <th>7</th>\n",
       "      <td>8</td>\n",
       "      <td>मोटा राजा दुबला कुत्ता</td>\n",
       "      <td>Mota Raja Dubla Kutta</td>\n",
       "      <td>Hindi</td>\n",
       "      <td>मोटे राजा के साथ दुबले कुत्ते के पीछे भागिये!\\n</td>\n",
       "      <td>यह है मोटा राजा।  मोटे राजा का है दुबला कुत्ता...</td>\n",
       "      <td>Fat King Thin Dog</td>\n",
       "    </tr>\n",
       "    <tr>\n",
       "      <th>15</th>\n",
       "      <td>16</td>\n",
       "      <td>Vayu, the Wind</td>\n",
       "      <td>Vayu, the Wind</td>\n",
       "      <td>English</td>\n",
       "      <td>A nice story about this silent and always pres...</td>\n",
       "      <td>Everytime I finish my hot, hot bath,My wet bod...</td>\n",
       "      <td>वारा</td>\n",
       "    </tr>\n",
       "  </tbody>\n",
       "</table>\n",
       "</div>"
      ],
      "text/plain": [
       "    story_id                   title          english_title story_langugage  \\\n",
       "0          1             वह हँस दिया         Veh Hans Diyaa           Hindi   \n",
       "1          2           Smile Please!          Smile Please!         English   \n",
       "6          7       Fat King Thin Dog      Fat King Thin Dog         English   \n",
       "7          8  मोटा राजा दुबला कुत्ता  Mota Raja Dubla Kutta           Hindi   \n",
       "15        16          Vayu, the Wind         Vayu, the Wind         English   \n",
       "\n",
       "                                             synopsis  \\\n",
       "0   क्‍या आपको दौड़ लगाने में मज़ा आता है? हमारी कहा...   \n",
       "1   Follow the young deer as he races along with f...   \n",
       "6     Run along with the Fat King after the Thin Dog!   \n",
       "7     मोटे राजा के साथ दुबले कुत्ते के पीछे भागिये!\\n   \n",
       "15  A nice story about this silent and always pres...   \n",
       "\n",
       "                                              content story_original_title  \n",
       "0   Kitchenvadoekdiscl ClothesT-hemp&nbsp;&nbsp;&n...          वह हँस दिया  \n",
       "1   A fawn was racing in the forest. He was ahead ...          वह हँस दिया  \n",
       "6   This is a fat king. The fat king has a thin do...    Fat King Thin Dog  \n",
       "7   यह है मोटा राजा।  मोटे राजा का है दुबला कुत्ता...    Fat King Thin Dog  \n",
       "15  Everytime I finish my hot, hot bath,My wet bod...                 वारा  "
      ]
     },
     "execution_count": 6,
     "metadata": {},
     "output_type": "execute_result"
    }
   ],
   "source": [
    "stories.head()"
   ]
  },
  {
   "cell_type": "code",
   "execution_count": 7,
   "metadata": {},
   "outputs": [],
   "source": [
    "tags_list = ['<p>' ,'</p>' , '<p*>','\\\\n', '\\\\t', ' +'\n",
    "             '<ul>','</ul>',\n",
    "             '<li>','</li>',\n",
    "             '<br>',\n",
    "             '<strong>','</strong>',\n",
    "             '<span*>','</span>',\n",
    "             '<a href*>','</a>',\n",
    "             '<em>','</em>']\n",
    "\n",
    "for tag in tags_list:\n",
    "    stories['content'].replace(to_replace=tag, value='', regex=True, inplace=True)"
   ]
  },
  {
   "cell_type": "code",
   "execution_count": 8,
   "metadata": {},
   "outputs": [],
   "source": [
    "merged_stories = pd.merge(stories, stories[['content', 'title', 'synopsis', 'story_langugage']], right_on='title', left_on='story_original_title', suffixes=['','_original']).sort_index()"
   ]
  },
  {
   "cell_type": "code",
   "execution_count": 9,
   "metadata": {},
   "outputs": [],
   "source": [
    "merged_stories = merged_stories.set_index('story_id')"
   ]
  },
  {
   "cell_type": "code",
   "execution_count": 10,
   "metadata": {},
   "outputs": [],
   "source": [
    "merged_stories = merged_stories[merged_stories.pipe(lambda x: x['story_langugage'] != x['story_langugage_original']) & merged_stories.content.notnull()]"
   ]
  },
  {
   "cell_type": "code",
   "execution_count": 11,
   "metadata": {},
   "outputs": [],
   "source": [
    "merged_stories_english = merged_stories[merged_stories['story_langugage_original'] == 'English']"
   ]
  },
  {
   "cell_type": "code",
   "execution_count": 12,
   "metadata": {},
   "outputs": [],
   "source": [
    "anno_dataset = merged_stories_english[['title','content_original','content']]"
   ]
  },
  {
   "cell_type": "code",
   "execution_count": 13,
   "metadata": {},
   "outputs": [],
   "source": [
    "anno_dataset.reset_index(inplace=True)"
   ]
  },
  {
   "cell_type": "code",
   "execution_count": 14,
   "metadata": {},
   "outputs": [
    {
     "name": "stderr",
     "output_type": "stream",
     "text": [
      "/home/ubuntu/.local/lib/python3.6/site-packages/pandas/core/frame.py:4042: SettingWithCopyWarning: \n",
      "A value is trying to be set on a copy of a slice from a DataFrame\n",
      "\n",
      "See the caveats in the documentation: http://pandas.pydata.org/pandas-docs/stable/indexing.html#indexing-view-versus-copy\n",
      "  method=method)\n"
     ]
    }
   ],
   "source": [
    "anno_dataset.replace(to_replace='&nbsp;', value='', regex=True, inplace=True)\n",
    "anno_dataset.replace(to_replace='&nbsp', value='', regex=True, inplace=True)"
   ]
  },
  {
   "cell_type": "code",
   "execution_count": 15,
   "metadata": {},
   "outputs": [],
   "source": [
    "anno_dataset.to_csv('../data/anno_stories.csv',index = False)"
   ]
  },
  {
   "cell_type": "code",
   "execution_count": null,
   "metadata": {},
   "outputs": [],
   "source": []
  }
 ],
 "metadata": {
  "kernelspec": {
   "display_name": "Python 3",
   "language": "python",
   "name": "python3"
  },
  "language_info": {
   "codemirror_mode": {
    "name": "ipython",
    "version": 3
   },
   "file_extension": ".py",
   "mimetype": "text/x-python",
   "name": "python",
   "nbconvert_exporter": "python",
   "pygments_lexer": "ipython3",
   "version": "3.6.8"
  }
 },
 "nbformat": 4,
 "nbformat_minor": 2
}
